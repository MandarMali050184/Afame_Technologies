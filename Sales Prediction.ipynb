{
 "cells": [
  {
   "cell_type": "markdown",
   "id": "4cfb59ef",
   "metadata": {},
   "source": [
    "# Data Preprocessing:"
   ]
  },
  {
   "cell_type": "markdown",
   "id": "901aed89",
   "metadata": {},
   "source": [
    "# Load Data"
   ]
  },
  {
   "cell_type": "code",
   "execution_count": 10,
   "id": "25dd384f",
   "metadata": {},
   "outputs": [
    {
     "data": {
      "text/html": [
       "<div>\n",
       "<style scoped>\n",
       "    .dataframe tbody tr th:only-of-type {\n",
       "        vertical-align: middle;\n",
       "    }\n",
       "\n",
       "    .dataframe tbody tr th {\n",
       "        vertical-align: top;\n",
       "    }\n",
       "\n",
       "    .dataframe thead th {\n",
       "        text-align: right;\n",
       "    }\n",
       "</style>\n",
       "<table border=\"1\" class=\"dataframe\">\n",
       "  <thead>\n",
       "    <tr style=\"text-align: right;\">\n",
       "      <th></th>\n",
       "      <th>TV</th>\n",
       "      <th>Radio</th>\n",
       "      <th>Newspaper</th>\n",
       "      <th>Sales</th>\n",
       "    </tr>\n",
       "  </thead>\n",
       "  <tbody>\n",
       "    <tr>\n",
       "      <th>0</th>\n",
       "      <td>230.1</td>\n",
       "      <td>37.8</td>\n",
       "      <td>69.2</td>\n",
       "      <td>22.1</td>\n",
       "    </tr>\n",
       "    <tr>\n",
       "      <th>1</th>\n",
       "      <td>44.5</td>\n",
       "      <td>39.3</td>\n",
       "      <td>45.1</td>\n",
       "      <td>10.4</td>\n",
       "    </tr>\n",
       "    <tr>\n",
       "      <th>2</th>\n",
       "      <td>17.2</td>\n",
       "      <td>45.9</td>\n",
       "      <td>69.3</td>\n",
       "      <td>12.0</td>\n",
       "    </tr>\n",
       "    <tr>\n",
       "      <th>3</th>\n",
       "      <td>151.5</td>\n",
       "      <td>41.3</td>\n",
       "      <td>58.5</td>\n",
       "      <td>16.5</td>\n",
       "    </tr>\n",
       "    <tr>\n",
       "      <th>4</th>\n",
       "      <td>180.8</td>\n",
       "      <td>10.8</td>\n",
       "      <td>58.4</td>\n",
       "      <td>17.9</td>\n",
       "    </tr>\n",
       "    <tr>\n",
       "      <th>...</th>\n",
       "      <td>...</td>\n",
       "      <td>...</td>\n",
       "      <td>...</td>\n",
       "      <td>...</td>\n",
       "    </tr>\n",
       "    <tr>\n",
       "      <th>195</th>\n",
       "      <td>38.2</td>\n",
       "      <td>3.7</td>\n",
       "      <td>13.8</td>\n",
       "      <td>7.6</td>\n",
       "    </tr>\n",
       "    <tr>\n",
       "      <th>196</th>\n",
       "      <td>94.2</td>\n",
       "      <td>4.9</td>\n",
       "      <td>8.1</td>\n",
       "      <td>14.0</td>\n",
       "    </tr>\n",
       "    <tr>\n",
       "      <th>197</th>\n",
       "      <td>177.0</td>\n",
       "      <td>9.3</td>\n",
       "      <td>6.4</td>\n",
       "      <td>14.8</td>\n",
       "    </tr>\n",
       "    <tr>\n",
       "      <th>198</th>\n",
       "      <td>283.6</td>\n",
       "      <td>42.0</td>\n",
       "      <td>66.2</td>\n",
       "      <td>25.5</td>\n",
       "    </tr>\n",
       "    <tr>\n",
       "      <th>199</th>\n",
       "      <td>232.1</td>\n",
       "      <td>8.6</td>\n",
       "      <td>8.7</td>\n",
       "      <td>18.4</td>\n",
       "    </tr>\n",
       "  </tbody>\n",
       "</table>\n",
       "<p>200 rows × 4 columns</p>\n",
       "</div>"
      ],
      "text/plain": [
       "        TV  Radio  Newspaper  Sales\n",
       "0    230.1   37.8       69.2   22.1\n",
       "1     44.5   39.3       45.1   10.4\n",
       "2     17.2   45.9       69.3   12.0\n",
       "3    151.5   41.3       58.5   16.5\n",
       "4    180.8   10.8       58.4   17.9\n",
       "..     ...    ...        ...    ...\n",
       "195   38.2    3.7       13.8    7.6\n",
       "196   94.2    4.9        8.1   14.0\n",
       "197  177.0    9.3        6.4   14.8\n",
       "198  283.6   42.0       66.2   25.5\n",
       "199  232.1    8.6        8.7   18.4\n",
       "\n",
       "[200 rows x 4 columns]"
      ]
     },
     "execution_count": 10,
     "metadata": {},
     "output_type": "execute_result"
    }
   ],
   "source": [
    "import pandas as pd\n",
    "import numpy as np\n",
    "import matplotlib.pyplot as plt\n",
    "import seaborn as sns\n",
    "%matplotlib inline\n",
    "df=pd.read_csv(r'C:\\Users\\Mandar\\Downloads\\Sales.csv')\n",
    "df"
   ]
  },
  {
   "cell_type": "markdown",
   "id": "50054615",
   "metadata": {},
   "source": [
    "# Feature engineering:"
   ]
  },
  {
   "cell_type": "raw",
   "id": "390b4179",
   "metadata": {},
   "source": [
    "1.Data Cleaning.\n",
    "2.Handling null data.\n",
    "3.Handling Outliers\n",
    "4.Encode the object data type column of the dataframe.\n",
    "5.Removing skewness\n",
    "6.Scale the data\n",
    "7.Train test split"
   ]
  },
  {
   "cell_type": "markdown",
   "id": "973af2f7",
   "metadata": {},
   "source": [
    "# Data cleaning:"
   ]
  },
  {
   "cell_type": "markdown",
   "id": "19780e86",
   "metadata": {},
   "source": [
    "It is a method in data science which helps in preparing the data according to business need.\n",
    "\n",
    "Handling Nan values: No need to Handling Nan value."
   ]
  },
  {
   "cell_type": "code",
   "execution_count": 2,
   "id": "ff010342",
   "metadata": {},
   "outputs": [
    {
     "data": {
      "text/plain": [
       "TV           float64\n",
       "Radio        float64\n",
       "Newspaper    float64\n",
       "Sales        float64\n",
       "dtype: object"
      ]
     },
     "execution_count": 2,
     "metadata": {},
     "output_type": "execute_result"
    }
   ],
   "source": [
    "df.dtypes"
   ]
  },
  {
   "cell_type": "code",
   "execution_count": 3,
   "id": "c1a09582",
   "metadata": {},
   "outputs": [
    {
     "data": {
      "text/plain": [
       "TV           0\n",
       "Radio        0\n",
       "Newspaper    0\n",
       "Sales        0\n",
       "dtype: int64"
      ]
     },
     "execution_count": 3,
     "metadata": {},
     "output_type": "execute_result"
    }
   ],
   "source": [
    "df.isnull().sum()"
   ]
  },
  {
   "cell_type": "code",
   "execution_count": 11,
   "id": "7bcbf72e",
   "metadata": {},
   "outputs": [
    {
     "data": {
      "text/plain": [
       "TV          -0.069853\n",
       "Radio        0.094175\n",
       "Newspaper    0.894720\n",
       "Sales       -0.073739\n",
       "dtype: float64"
      ]
     },
     "execution_count": 11,
     "metadata": {},
     "output_type": "execute_result"
    }
   ],
   "source": [
    "df.skew()"
   ]
  },
  {
   "cell_type": "markdown",
   "id": "5c59253d",
   "metadata": {},
   "source": [
    "# Visualizing the relationship"
   ]
  },
  {
   "cell_type": "code",
   "execution_count": 5,
   "id": "3ce8c0d4",
   "metadata": {},
   "outputs": [
    {
     "data": {
      "text/plain": [
       "<seaborn.axisgrid.PairGrid at 0x237a95a0190>"
      ]
     },
     "execution_count": 5,
     "metadata": {},
     "output_type": "execute_result"
    },
    {
     "data": {
      "image/png": "[encoded data removed]",
      "text/plain": [
       "<Figure size 750x250 with 3 Axes>"
      ]
     },
     "metadata": {},
     "output_type": "display_data"
    }
   ],
   "source": [
    "sns.pairplot(df,x_vars=['TV','Radio','Newspaper'],y_vars='Sales')"
   ]
  },
  {
   "cell_type": "code",
   "execution_count": 6,
   "id": "3ad9d6e6",
   "metadata": {},
   "outputs": [
    {
     "data": {
      "text/html": [
       "<div>\n",
       "<style scoped>\n",
       "    .dataframe tbody tr th:only-of-type {\n",
       "        vertical-align: middle;\n",
       "    }\n",
       "\n",
       "    .dataframe tbody tr th {\n",
       "        vertical-align: top;\n",
       "    }\n",
       "\n",
       "    .dataframe thead th {\n",
       "        text-align: right;\n",
       "    }\n",
       "</style>\n",
       "<table border=\"1\" class=\"dataframe\">\n",
       "  <thead>\n",
       "    <tr style=\"text-align: right;\">\n",
       "      <th></th>\n",
       "      <th>TV</th>\n",
       "      <th>Radio</th>\n",
       "      <th>Newspaper</th>\n",
       "      <th>Sales</th>\n",
       "    </tr>\n",
       "  </thead>\n",
       "  <tbody>\n",
       "    <tr>\n",
       "      <th>TV</th>\n",
       "      <td>1.000000</td>\n",
       "      <td>0.054809</td>\n",
       "      <td>0.056648</td>\n",
       "      <td>0.901208</td>\n",
       "    </tr>\n",
       "    <tr>\n",
       "      <th>Radio</th>\n",
       "      <td>0.054809</td>\n",
       "      <td>1.000000</td>\n",
       "      <td>0.354104</td>\n",
       "      <td>0.349631</td>\n",
       "    </tr>\n",
       "    <tr>\n",
       "      <th>Newspaper</th>\n",
       "      <td>0.056648</td>\n",
       "      <td>0.354104</td>\n",
       "      <td>1.000000</td>\n",
       "      <td>0.157960</td>\n",
       "    </tr>\n",
       "    <tr>\n",
       "      <th>Sales</th>\n",
       "      <td>0.901208</td>\n",
       "      <td>0.349631</td>\n",
       "      <td>0.157960</td>\n",
       "      <td>1.000000</td>\n",
       "    </tr>\n",
       "  </tbody>\n",
       "</table>\n",
       "</div>"
      ],
      "text/plain": [
       "                 TV     Radio  Newspaper     Sales\n",
       "TV         1.000000  0.054809   0.056648  0.901208\n",
       "Radio      0.054809  1.000000   0.354104  0.349631\n",
       "Newspaper  0.056648  0.354104   1.000000  0.157960\n",
       "Sales      0.901208  0.349631   0.157960  1.000000"
      ]
     },
     "execution_count": 6,
     "metadata": {},
     "output_type": "execute_result"
    }
   ],
   "source": [
    "df.corr()"
   ]
  },
  {
   "cell_type": "code",
   "execution_count": 7,
   "id": "0cbe0c20",
   "metadata": {},
   "outputs": [
    {
     "data": {
      "image/png": "[encoded data removed]",
      "text/plain": [
       "<Figure size 640x480 with 2 Axes>"
      ]
     },
     "metadata": {},
     "output_type": "display_data"
    }
   ],
   "source": [
    "sns.heatmap(df.corr(), annot=True );"
   ]
  },
  {
   "cell_type": "code",
   "execution_count": 8,
   "id": "bced0ac9",
   "metadata": {},
   "outputs": [
    {
     "name": "stderr",
     "output_type": "stream",
     "text": [
      "C:\\Users\\Mandar\\anaconda3\\lib\\site-packages\\seaborn\\_decorators.py:36: FutureWarning: Pass the following variable as a keyword arg: x. From version 0.12, the only valid positional argument will be `data`, and passing other arguments without an explicit keyword will result in an error or misinterpretation.\n",
      "  warnings.warn(\n",
      "C:\\Users\\Mandar\\anaconda3\\lib\\site-packages\\seaborn\\_decorators.py:36: FutureWarning: Pass the following variable as a keyword arg: x. From version 0.12, the only valid positional argument will be `data`, and passing other arguments without an explicit keyword will result in an error or misinterpretation.\n",
      "  warnings.warn(\n",
      "C:\\Users\\Mandar\\anaconda3\\lib\\site-packages\\seaborn\\_decorators.py:36: FutureWarning: Pass the following variable as a keyword arg: x. From version 0.12, the only valid positional argument will be `data`, and passing other arguments without an explicit keyword will result in an error or misinterpretation.\n",
      "  warnings.warn(\n"
     ]
    },
    {
     "data": {
      "image/png": "[encoded data removed]",
      "text/plain": [
       "<Figure size 500x500 with 3 Axes>"
      ]
     },
     "metadata": {},
     "output_type": "display_data"
    }
   ],
   "source": [
    "fig, axs = plt.subplots(3, figsize = (5,5))\n",
    "plt1 = sns.boxplot(df['TV'], ax = axs[0])\n",
    "plt2 = sns.boxplot(df['Newspaper'], ax = axs[1])\n",
    "plt3 = sns.boxplot(df['Radio'], ax = axs[2])\n",
    "plt.tight_layout()"
   ]
  },
  {
   "cell_type": "markdown",
   "id": "82f3f158",
   "metadata": {},
   "source": [
    "# Label Encoding"
   ]
  },
  {
   "cell_type": "code",
   "execution_count": 12,
   "id": "791ceaab",
   "metadata": {},
   "outputs": [],
   "source": [
    "from sklearn.preprocessing import LabelEncoder\n",
    "le=LabelEncoder()\n",
    "def encode(df):\n",
    "    for col in df.columns:\n",
    "        if df[col].dtypes==\"object\":\n",
    "            df[col]=le.fit_transform(df[col])\n",
    "    return df\n",
    "df=encode(df)"
   ]
  },
  {
   "cell_type": "markdown",
   "id": "43ffb727",
   "metadata": {},
   "source": [
    "# Remove Skewness"
   ]
  },
  {
   "cell_type": "code",
   "execution_count": 13,
   "id": "c831ccff",
   "metadata": {},
   "outputs": [],
   "source": [
    "from sklearn.preprocessing import power_transform\n",
    "def rem_skew(df):\n",
    "    feature_df=df.drop([\"Sales\"],axis=1)\n",
    "    target_df=df[[\"Sales\"]]\n",
    "    array_data=power_transform(feature_df,method=\"yeo-johnson\")\n",
    "    feature_df=pd.DataFrame(array_data,columns=feature_df.columns)\n",
    "    df=pd.concat([feature_df,target_df],axis=1)\n",
    "    return df\n",
    "df=rem_skew(df)"
   ]
  },
  {
   "cell_type": "markdown",
   "id": "209bd76d",
   "metadata": {},
   "source": [
    "# Standard Scalling"
   ]
  },
  {
   "cell_type": "code",
   "execution_count": 14,
   "id": "0118034e",
   "metadata": {},
   "outputs": [
    {
     "data": {
      "text/html": [
       "<div>\n",
       "<style scoped>\n",
       "    .dataframe tbody tr th:only-of-type {\n",
       "        vertical-align: middle;\n",
       "    }\n",
       "\n",
       "    .dataframe tbody tr th {\n",
       "        vertical-align: top;\n",
       "    }\n",
       "\n",
       "    .dataframe thead th {\n",
       "        text-align: right;\n",
       "    }\n",
       "</style>\n",
       "<table border=\"1\" class=\"dataframe\">\n",
       "  <thead>\n",
       "    <tr style=\"text-align: right;\">\n",
       "      <th></th>\n",
       "      <th>TV</th>\n",
       "      <th>Radio</th>\n",
       "      <th>Newspaper</th>\n",
       "      <th>Sales</th>\n",
       "    </tr>\n",
       "  </thead>\n",
       "  <tbody>\n",
       "    <tr>\n",
       "      <th>0</th>\n",
       "      <td>0.948674</td>\n",
       "      <td>0.962247</td>\n",
       "      <td>1.514335</td>\n",
       "      <td>1.322319</td>\n",
       "    </tr>\n",
       "    <tr>\n",
       "      <th>1</th>\n",
       "      <td>-1.191314</td>\n",
       "      <td>1.040179</td>\n",
       "      <td>0.787683</td>\n",
       "      <td>-0.897515</td>\n",
       "    </tr>\n",
       "    <tr>\n",
       "      <th>2</th>\n",
       "      <td>-1.647757</td>\n",
       "      <td>1.370710</td>\n",
       "      <td>1.516998</td>\n",
       "      <td>-0.593948</td>\n",
       "    </tr>\n",
       "    <tr>\n",
       "      <th>3</th>\n",
       "      <td>0.141020</td>\n",
       "      <td>1.142387</td>\n",
       "      <td>1.214656</td>\n",
       "      <td>0.259834</td>\n",
       "    </tr>\n",
       "    <tr>\n",
       "      <th>4</th>\n",
       "      <td>0.452715</td>\n",
       "      <td>-0.748651</td>\n",
       "      <td>1.211704</td>\n",
       "      <td>0.525455</td>\n",
       "    </tr>\n",
       "    <tr>\n",
       "      <th>...</th>\n",
       "      <td>...</td>\n",
       "      <td>...</td>\n",
       "      <td>...</td>\n",
       "      <td>...</td>\n",
       "    </tr>\n",
       "    <tr>\n",
       "      <th>195</th>\n",
       "      <td>-1.287908</td>\n",
       "      <td>-1.431436</td>\n",
       "      <td>-0.682576</td>\n",
       "      <td>-1.428757</td>\n",
       "    </tr>\n",
       "    <tr>\n",
       "      <th>196</th>\n",
       "      <td>-0.520949</td>\n",
       "      <td>-1.297017</td>\n",
       "      <td>-1.142011</td>\n",
       "      <td>-0.214489</td>\n",
       "    </tr>\n",
       "    <tr>\n",
       "      <th>197</th>\n",
       "      <td>0.413091</td>\n",
       "      <td>-0.875492</td>\n",
       "      <td>-1.313050</td>\n",
       "      <td>-0.062706</td>\n",
       "    </tr>\n",
       "    <tr>\n",
       "      <th>198</th>\n",
       "      <td>1.455843</td>\n",
       "      <td>1.177722</td>\n",
       "      <td>1.433350</td>\n",
       "      <td>1.967398</td>\n",
       "    </tr>\n",
       "    <tr>\n",
       "      <th>199</th>\n",
       "      <td>0.968161</td>\n",
       "      <td>-0.937083</td>\n",
       "      <td>-1.086425</td>\n",
       "      <td>0.620320</td>\n",
       "    </tr>\n",
       "  </tbody>\n",
       "</table>\n",
       "<p>200 rows × 4 columns</p>\n",
       "</div>"
      ],
      "text/plain": [
       "           TV     Radio  Newspaper     Sales\n",
       "0    0.948674  0.962247   1.514335  1.322319\n",
       "1   -1.191314  1.040179   0.787683 -0.897515\n",
       "2   -1.647757  1.370710   1.516998 -0.593948\n",
       "3    0.141020  1.142387   1.214656  0.259834\n",
       "4    0.452715 -0.748651   1.211704  0.525455\n",
       "..        ...       ...        ...       ...\n",
       "195 -1.287908 -1.431436  -0.682576 -1.428757\n",
       "196 -0.520949 -1.297017  -1.142011 -0.214489\n",
       "197  0.413091 -0.875492  -1.313050 -0.062706\n",
       "198  1.455843  1.177722   1.433350  1.967398\n",
       "199  0.968161 -0.937083  -1.086425  0.620320\n",
       "\n",
       "[200 rows x 4 columns]"
      ]
     },
     "execution_count": 14,
     "metadata": {},
     "output_type": "execute_result"
    }
   ],
   "source": [
    "from sklearn.preprocessing import StandardScaler\n",
    "import pandas as pd\n",
    "sc=StandardScaler()\n",
    "def scale_ss(dataframe):\n",
    "    list_col_object=[col for col in list(dataframe.columns) if dataframe[col].dtypes==\"object\"]\n",
    "    list_col_num=[col for col in list(dataframe.columns) if dataframe[col].dtypes!=\"object\"]\n",
    "    df_num=dataframe[list_col_num]\n",
    "    array_data=sc.fit_transform(df_num)\n",
    "    df_num=pd.DataFrame(array_data,columns=df_num.columns)\n",
    "    df=pd.concat([df_num,dataframe[list_col_object]],axis=1)\n",
    "    return df\n",
    "df_scaled_standard_scaler=scale_ss(df)\n",
    "df_scaled_standard_scaler"
   ]
  },
  {
   "cell_type": "code",
   "execution_count": 9,
   "id": "b64b87dc",
   "metadata": {},
   "outputs": [
    {
     "data": {
      "text/html": [
       "<div>\n",
       "<style scoped>\n",
       "    .dataframe tbody tr th:only-of-type {\n",
       "        vertical-align: middle;\n",
       "    }\n",
       "\n",
       "    .dataframe tbody tr th {\n",
       "        vertical-align: top;\n",
       "    }\n",
       "\n",
       "    .dataframe thead th {\n",
       "        text-align: right;\n",
       "    }\n",
       "</style>\n",
       "<table border=\"1\" class=\"dataframe\">\n",
       "  <thead>\n",
       "    <tr style=\"text-align: right;\">\n",
       "      <th></th>\n",
       "      <th>TV</th>\n",
       "      <th>Radio</th>\n",
       "      <th>Newspaper</th>\n",
       "      <th>Sales</th>\n",
       "    </tr>\n",
       "  </thead>\n",
       "  <tbody>\n",
       "    <tr>\n",
       "      <th>0</th>\n",
       "      <td>0.654302</td>\n",
       "      <td>0.667829</td>\n",
       "      <td>0.581761</td>\n",
       "      <td>0.614173</td>\n",
       "    </tr>\n",
       "    <tr>\n",
       "      <th>1</th>\n",
       "      <td>-0.530128</td>\n",
       "      <td>0.712007</td>\n",
       "      <td>0.282367</td>\n",
       "      <td>-0.307087</td>\n",
       "    </tr>\n",
       "    <tr>\n",
       "      <th>2</th>\n",
       "      <td>-0.782758</td>\n",
       "      <td>0.899379</td>\n",
       "      <td>0.582858</td>\n",
       "      <td>-0.181102</td>\n",
       "    </tr>\n",
       "    <tr>\n",
       "      <th>3</th>\n",
       "      <td>0.207285</td>\n",
       "      <td>0.769947</td>\n",
       "      <td>0.458288</td>\n",
       "      <td>0.173228</td>\n",
       "    </tr>\n",
       "    <tr>\n",
       "      <th>4</th>\n",
       "      <td>0.379801</td>\n",
       "      <td>-0.302048</td>\n",
       "      <td>0.457071</td>\n",
       "      <td>0.283465</td>\n",
       "    </tr>\n",
       "    <tr>\n",
       "      <th>...</th>\n",
       "      <td>...</td>\n",
       "      <td>...</td>\n",
       "      <td>...</td>\n",
       "      <td>...</td>\n",
       "    </tr>\n",
       "    <tr>\n",
       "      <th>195</th>\n",
       "      <td>-0.583590</td>\n",
       "      <td>-0.689107</td>\n",
       "      <td>-0.323405</td>\n",
       "      <td>-0.527559</td>\n",
       "    </tr>\n",
       "    <tr>\n",
       "      <th>196</th>\n",
       "      <td>-0.159098</td>\n",
       "      <td>-0.612907</td>\n",
       "      <td>-0.512701</td>\n",
       "      <td>-0.023622</td>\n",
       "    </tr>\n",
       "    <tr>\n",
       "      <th>197</th>\n",
       "      <td>0.357870</td>\n",
       "      <td>-0.373952</td>\n",
       "      <td>-0.583172</td>\n",
       "      <td>0.039370</td>\n",
       "    </tr>\n",
       "    <tr>\n",
       "      <th>198</th>\n",
       "      <td>0.935007</td>\n",
       "      <td>0.789977</td>\n",
       "      <td>0.548394</td>\n",
       "      <td>0.881890</td>\n",
       "    </tr>\n",
       "    <tr>\n",
       "      <th>199</th>\n",
       "      <td>0.665087</td>\n",
       "      <td>-0.408867</td>\n",
       "      <td>-0.489799</td>\n",
       "      <td>0.322835</td>\n",
       "    </tr>\n",
       "  </tbody>\n",
       "</table>\n",
       "<p>200 rows × 4 columns</p>\n",
       "</div>"
      ],
      "text/plain": [
       "           TV     Radio  Newspaper     Sales\n",
       "0    0.654302  0.667829   0.581761  0.614173\n",
       "1   -0.530128  0.712007   0.282367 -0.307087\n",
       "2   -0.782758  0.899379   0.582858 -0.181102\n",
       "3    0.207285  0.769947   0.458288  0.173228\n",
       "4    0.379801 -0.302048   0.457071  0.283465\n",
       "..        ...       ...        ...       ...\n",
       "195 -0.583590 -0.689107  -0.323405 -0.527559\n",
       "196 -0.159098 -0.612907  -0.512701 -0.023622\n",
       "197  0.357870 -0.373952  -0.583172  0.039370\n",
       "198  0.935007  0.789977   0.548394  0.881890\n",
       "199  0.665087 -0.408867  -0.489799  0.322835\n",
       "\n",
       "[200 rows x 4 columns]"
      ]
     },
     "execution_count": 9,
     "metadata": {},
     "output_type": "execute_result"
    }
   ],
   "source": [
    "from sklearn.preprocessing import MinMaxScaler\n",
    "mms=MinMaxScaler(feature_range=(-1, 1))\n",
    "def scale_mms(dataframe):\n",
    "    list_col_object=[col for col in list(dataframe.columns) if dataframe[col].dtypes==\"object\"]\n",
    "    list_col_num=[col for col in list(dataframe.columns) if dataframe[col].dtypes!=\"object\"]\n",
    "    df_num=dataframe[list_col_num]\n",
    "    df_obj=dataframe[list_col_object]\n",
    "    array_data=mms.fit_transform(df_num)\n",
    "    df_num=pd.DataFrame(array_data,columns=df_num.columns)\n",
    "    df=pd.concat([df_num,df_obj],axis=1)\n",
    "    return df\n",
    "dataframe_mms_scaled=scale_mms(df)\n",
    "dataframe_mms_scaled"
   ]
  },
  {
   "cell_type": "markdown",
   "id": "09246dd3",
   "metadata": {},
   "source": [
    "# Train Test Split"
   ]
  },
  {
   "cell_type": "code",
   "execution_count": 15,
   "id": "bbc438da",
   "metadata": {},
   "outputs": [],
   "source": [
    "from sklearn.model_selection import train_test_split\n",
    "def split_data(df):\n",
    "    feature_df=df.drop([\"Sales\"],axis=1)\n",
    "    target_df=df[[\"Sales\"]]\n",
    "    x_train,x_test,y_train,y_test=train_test_split(feature_df,target_df,random_state=0,test_size=0.2,shuffle=True)\n",
    "    return x_train,x_test,y_train,y_test\n",
    "x_train,x_test,y_train,y_test=split_data(df)"
   ]
  },
  {
   "cell_type": "markdown",
   "id": "bafbc9d6",
   "metadata": {},
   "source": [
    "# Model Training"
   ]
  },
  {
   "cell_type": "markdown",
   "id": "2c4b474c",
   "metadata": {},
   "source": [
    "### Linear Regression"
   ]
  },
  {
   "cell_type": "code",
   "execution_count": 16,
   "id": "674230e7",
   "metadata": {},
   "outputs": [
    {
     "data": {
      "text/plain": [
       "LinearRegression()"
      ]
     },
     "execution_count": 16,
     "metadata": {},
     "output_type": "execute_result"
    }
   ],
   "source": [
    "from sklearn.linear_model import LinearRegression\n",
    "lr=LinearRegression()\n",
    "lr.fit(x_train,y_train)"
   ]
  },
  {
   "cell_type": "code",
   "execution_count": 17,
   "id": "adf6437f",
   "metadata": {},
   "outputs": [
    {
     "name": "stdout",
     "output_type": "stream",
     "text": [
      "The accuracy of the regression model is 92.13698423668765%\n",
      "The accuracy of the regression model is 88.80057904603214%\n"
     ]
    }
   ],
   "source": [
    "from sklearn.metrics import r2_score\n",
    "print(f\"The accuracy of the regression model is {r2_score(y_train,lr.predict(x_train))*100}%\")\n",
    "print(f\"The accuracy of the regression model is {r2_score(y_test,lr.predict(x_test))*100}%\")"
   ]
  },
  {
   "cell_type": "markdown",
   "id": "361b9824",
   "metadata": {},
   "source": [
    "### Random Forest Regression"
   ]
  },
  {
   "cell_type": "code",
   "execution_count": 18,
   "id": "9a8911ec",
   "metadata": {},
   "outputs": [
    {
     "name": "stderr",
     "output_type": "stream",
     "text": [
      "C:\\Users\\Mandar\\AppData\\Local\\Temp\\ipykernel_2384\\1993926707.py:5: DataConversionWarning: A column-vector y was passed when a 1d array was expected. Please change the shape of y to (n_samples,), for example using ravel().\n",
      "  rfr.fit(x_train,y_train)\n"
     ]
    },
    {
     "name": "stdout",
     "output_type": "stream",
     "text": [
      "\n",
      "    The accuracy of the Random Forest Regressor model on the training data is 99.26583679797211% and \n",
      "    on the testing data is 94.67606514451091%.\n"
     ]
    }
   ],
   "source": [
    "from sklearn.ensemble import RandomForestRegressor\n",
    "from sklearn.metrics import r2_score\n",
    "rfr=RandomForestRegressor()\n",
    "def model_validation_rfr(x_train,x_test,y_train,y_test):\n",
    "    rfr.fit(x_train,y_train)\n",
    "    predicted_tr=rfr.predict(x_train)\n",
    "    predicted_ts=rfr.predict(x_test)\n",
    "    print(f'''\n",
    "    The accuracy of the Random Forest Regressor model on the training data is {r2_score(y_train,predicted_tr)*100}% and \n",
    "    on the testing data is {r2_score(y_test,predicted_ts)*100}%.''')\n",
    "model_validation_rfr(x_train,x_test,y_train,y_test)"
   ]
  },
  {
   "cell_type": "markdown",
   "id": "86e052a6",
   "metadata": {},
   "source": [
    "### Gradient Boosting Regressor"
   ]
  },
  {
   "cell_type": "code",
   "execution_count": 19,
   "id": "d86cefed",
   "metadata": {},
   "outputs": [
    {
     "name": "stderr",
     "output_type": "stream",
     "text": [
      "C:\\Users\\Mandar\\anaconda3\\lib\\site-packages\\sklearn\\ensemble\\_gb.py:494: DataConversionWarning: A column-vector y was passed when a 1d array was expected. Please change the shape of y to (n_samples, ), for example using ravel().\n",
      "  y = column_or_1d(y, warn=True)\n"
     ]
    },
    {
     "data": {
      "text/plain": [
       "'The accuracy of the gbr with default for training data is 99.48003840955617 %.\\n    The accuracy of the gbr with default for testing data is 94.17914955473996 %.\\n    '"
      ]
     },
     "execution_count": 19,
     "metadata": {},
     "output_type": "execute_result"
    }
   ],
   "source": [
    "from sklearn.ensemble import GradientBoostingRegressor\n",
    "from sklearn.metrics import r2_score\n",
    "def model_validation(x_train,x_test,y_train,y_test):\n",
    "    gbr=GradientBoostingRegressor()\n",
    "    gbr.fit(x_train,y_train)\n",
    "    predicted_tr=gbr.predict(x_train)\n",
    "    predicted_ts=gbr.predict(x_test)\n",
    "    return (f'''The accuracy of the gbr with default for training data is {r2_score(y_train,predicted_tr)*100} %.\n",
    "    The accuracy of the gbr with default for testing data is {r2_score(y_test,predicted_ts)*100} %.\n",
    "    ''')\n",
    "model_validation(x_train,x_test,y_train,y_test)"
   ]
  },
  {
   "cell_type": "markdown",
   "id": "579fb151",
   "metadata": {},
   "source": [
    "# Others metrics for validating the model"
   ]
  },
  {
   "cell_type": "code",
   "execution_count": 20,
   "id": "1ef9386e",
   "metadata": {},
   "outputs": [
    {
     "data": {
      "text/plain": [
       "'The mean_squared_error of the model is 3.738153925436346'"
      ]
     },
     "execution_count": 20,
     "metadata": {},
     "output_type": "execute_result"
    }
   ],
   "source": [
    "# mean squared error\n",
    "from sklearn.metrics import mean_squared_error\n",
    "def test_mean_squared_error(x_test,y_test):\n",
    "    expected_data=y_test\n",
    "    actual=lr.predict(x_test)\n",
    "    return f\"The mean_squared_error of the model is {mean_squared_error(actual,expected_data)}\"\n",
    "test_mean_squared_error(x_test,y_test)"
   ]
  },
  {
   "cell_type": "code",
   "execution_count": 21,
   "id": "982670e0",
   "metadata": {},
   "outputs": [
    {
     "data": {
      "text/plain": [
       "'The mean_absolute_error of the model is 1.388473975941944'"
      ]
     },
     "execution_count": 21,
     "metadata": {},
     "output_type": "execute_result"
    }
   ],
   "source": [
    "# mean absolute error\n",
    "from sklearn.metrics import mean_absolute_error\n",
    "def test_mean_absolute_error(x_test,y_test):\n",
    "    expected_data=y_test\n",
    "    actual=lr.predict(x_test)\n",
    "    return f\"The mean_absolute_error of the model is {mean_absolute_error(actual,expected_data)}\"\n",
    "test_mean_absolute_error(x_test,y_test)"
   ]
  },
  {
   "cell_type": "code",
   "execution_count": 22,
   "id": "8c5c91d0",
   "metadata": {},
   "outputs": [
    {
     "data": {
      "text/plain": [
       "'The mean_absolute_error of the model is 1.178335256173702'"
      ]
     },
     "execution_count": 22,
     "metadata": {},
     "output_type": "execute_result"
    }
   ],
   "source": [
    "# root mean square error\n",
    "from sklearn.metrics import mean_squared_error\n",
    "import numpy as np\n",
    "def test_root_mean_absolute_error(x_test,y_test):\n",
    "    expected_data=y_test\n",
    "    actual=lr.predict(x_test)\n",
    "    return f\"The mean_absolute_error of the model is {np.sqrt(mean_absolute_error(actual,expected_data))}\"\n",
    "test_root_mean_absolute_error(x_test,y_test)"
   ]
  },
  {
   "cell_type": "markdown",
   "id": "06cdb2ac",
   "metadata": {},
   "source": [
    "# Model Training using Bayesian Regression:"
   ]
  },
  {
   "cell_type": "code",
   "execution_count": 23,
   "id": "ec084f85",
   "metadata": {},
   "outputs": [
    {
     "name": "stdout",
     "output_type": "stream",
     "text": [
      "MSE train data: 2.0544, MSE test data: 3.7421\n",
      "RMSE train data: 1.4333, RMSE test data: 1.4333\n",
      "R2 train data: 0.92137, R2 test data: 0.88789\n"
     ]
    },
    {
     "name": "stderr",
     "output_type": "stream",
     "text": [
      "C:\\Users\\Mandar\\anaconda3\\lib\\site-packages\\sklearn\\utils\\validation.py:993: DataConversionWarning: A column-vector y was passed when a 1d array was expected. Please change the shape of y to (n_samples, ), for example using ravel().\n",
      "  y = column_or_1d(y, warn=True)\n"
     ]
    }
   ],
   "source": [
    "from sklearn.linear_model import BayesianRidge\n",
    "br = BayesianRidge().fit(x_train, y_train)\n",
    "\n",
    "br_train_pred = br.predict(x_train)\n",
    "br_test_pred = br.predict(x_test)\n",
    "\n",
    "\n",
    "br_train_mse = mean_squared_error(y_train, br_train_pred)\n",
    "br_test_mse = mean_squared_error(y_test, br_test_pred)\n",
    "\n",
    "\n",
    "print('MSE train data: {:.5}, MSE test data: {:.5}'.format(br_train_mse, br_test_mse))\n",
    "\n",
    "print('RMSE train data: {:.5}, RMSE test data: {:.5}'.format(\n",
    "    np.sqrt(np.absolute(br_train_mse)), \n",
    "    np.sqrt(np.absolute(br_train_mse))))\n",
    "                                                               \n",
    "print('R2 train data: {:.5}, R2 test data: {:.5}'.format(\n",
    "    r2_score(y_train, br_train_pred),\n",
    "    r2_score(y_test, br_test_pred)))"
   ]
  },
  {
   "cell_type": "code",
   "execution_count": null,
   "id": "a9983344",
   "metadata": {},
   "outputs": [],
   "source": []
  }
 ],
 "metadata": {
  "kernelspec": {
   "display_name": "Python 3 (ipykernel)",
   "language": "python",
   "name": "python3"
  },
  "language_info": {
   "codemirror_mode": {
    "name": "ipython",
    "version": 3
   },
   "file_extension": ".py",
   "mimetype": "text/x-python",
   "name": "python",
   "nbconvert_exporter": "python",
   "pygments_lexer": "ipython3",
   "version": "3.9.13"
  }
 },
 "nbformat": 4,
 "nbformat_minor": 5
}
